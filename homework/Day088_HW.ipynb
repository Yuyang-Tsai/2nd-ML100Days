{
 "cells": [
  {
   "cell_type": "markdown",
   "metadata": {},
   "source": [
    "## Work\n",
    "1. 請嘗試寫一個 callback 用來記錄各類別在訓練過程中，對驗證集的 True Positive 與 True Negative"
   ]
  },
  {
   "cell_type": "code",
   "execution_count": 1,
   "metadata": {},
   "outputs": [
    {
     "name": "stderr",
     "output_type": "stream",
     "text": [
      "Using TensorFlow backend.\n"
     ]
    }
   ],
   "source": [
    "import os\n",
    "import keras\n",
    "\n",
    "# Disable GPU\n",
    "os.environ[\"CUDA_VISIBLE_DEVICES\"] = \"\""
   ]
  },
  {
   "cell_type": "code",
   "execution_count": 2,
   "metadata": {},
   "outputs": [],
   "source": [
    "train, test = keras.datasets.cifar10.load_data()"
   ]
  },
  {
   "cell_type": "code",
   "execution_count": 3,
   "metadata": {},
   "outputs": [],
   "source": [
    "## 資料前處理\n",
    "def preproc_x(x, flatten=True):\n",
    "    x = x / 255.\n",
    "    if flatten:\n",
    "        x = x.reshape((len(x), -1))\n",
    "    return x\n",
    "\n",
    "def preproc_y(y, num_classes=10):\n",
    "    if y.shape[-1] == 1:\n",
    "        y = keras.utils.to_categorical(y, num_classes)\n",
    "    return y    "
   ]
  },
  {
   "cell_type": "code",
   "execution_count": 4,
   "metadata": {},
   "outputs": [],
   "source": [
    "x_train, y_train = train\n",
    "x_test, y_test = test\n",
    "\n",
    "# Preproc the inputs\n",
    "x_train = preproc_x(x_train)\n",
    "x_test = preproc_x(x_test)\n",
    "\n",
    "# Preprc the outputs\n",
    "y_train = preproc_y(y_train)\n",
    "y_test = preproc_y(y_test)"
   ]
  },
  {
   "cell_type": "code",
   "execution_count": 5,
   "metadata": {},
   "outputs": [],
   "source": [
    "from keras.layers import BatchNormalization\n",
    "\n",
    "\"\"\"\n",
    "建立神經網路，並加入 BN layer\n",
    "\"\"\"\n",
    "def build_mlp(input_shape, output_units=10, num_neurons=[512, 256, 128]):\n",
    "    input_layer = keras.layers.Input(input_shape)\n",
    "    \n",
    "    for i, n_units in enumerate(num_neurons):\n",
    "        if i == 0:\n",
    "            x = keras.layers.Dense(units=n_units, \n",
    "                                   activation=\"relu\", \n",
    "                                   name=\"hidden_layer\"+str(i+1))(input_layer)\n",
    "            x = BatchNormalization()(x)\n",
    "        else:\n",
    "            x = keras.layers.Dense(units=n_units, \n",
    "                                   activation=\"relu\", \n",
    "                                   name=\"hidden_layer\"+str(i+1))(x)\n",
    "            x = BatchNormalization()(x)\n",
    "    \n",
    "    out = keras.layers.Dense(units=output_units, activation=\"softmax\", name=\"output\")(x)\n",
    "    \n",
    "    model = keras.models.Model(inputs=[input_layer], outputs=[out])\n",
    "    return model"
   ]
  },
  {
   "cell_type": "code",
   "execution_count": 22,
   "metadata": {},
   "outputs": [],
   "source": [
    "## 超參數設定\n",
    "LEARNING_RATE = 1e-3\n",
    "EPOCHS = 25\n",
    "BATCH_SIZE = 1024\n",
    "MOMENTUM = 0.95"
   ]
  },
  {
   "cell_type": "code",
   "execution_count": 25,
   "metadata": {},
   "outputs": [],
   "source": [
    "# 載入 Callbacks\n",
    "from keras.callbacks import Callback\n",
    "from sklearn.metrics import confusion_matrix\n",
    "from sklearn.metrics import f1_score\n",
    "import numpy as np\n",
    "\n",
    "class f1sc(Callback):\n",
    "    def on_train_begin(self, epoch, logs = {}):\n",
    "        logs = logs or {}\n",
    "        record_items = [\"val_auc\", \"val_f1sc\", \"val_fp\", \"val_fn\", \"val_tp\", \"val_tn\"]\n",
    "        for i in record_items:\n",
    "            if i not in self.params['metrics']:\n",
    "                self.params['metrics'].append(i)\n",
    "    \n",
    "    def on_epoch_end(self, epoch, logs = {}, thres=0.5):\n",
    "        logs = logs or {}\n",
    "        y_true = self.validation_data[1].argmax(axis = 1)\n",
    "        y_pred = self.model.predict(self.validation_data[0])\n",
    "        y_pred = (y_pred[:, 1] >= thres) * 1\n",
    "        \n",
    "        logs[\"val_f1sc\"] = f1_score(y_true = y_true, y_pred = y_pred, average=\"weighted\")\n",
    "        \n",
    "log_f1sc = f1sc()"
   ]
  },
  {
   "cell_type": "code",
   "execution_count": 26,
   "metadata": {
    "scrolled": true
   },
   "outputs": [
    {
     "name": "stdout",
     "output_type": "stream",
     "text": [
      "_________________________________________________________________\n",
      "Layer (type)                 Output Shape              Param #   \n",
      "=================================================================\n",
      "input_3 (InputLayer)         (None, 3072)              0         \n",
      "_________________________________________________________________\n",
      "hidden_layer1 (Dense)        (None, 512)               1573376   \n",
      "_________________________________________________________________\n",
      "batch_normalization_7 (Batch (None, 512)               2048      \n",
      "_________________________________________________________________\n",
      "hidden_layer2 (Dense)        (None, 256)               131328    \n",
      "_________________________________________________________________\n",
      "batch_normalization_8 (Batch (None, 256)               1024      \n",
      "_________________________________________________________________\n",
      "hidden_layer3 (Dense)        (None, 128)               32896     \n",
      "_________________________________________________________________\n",
      "batch_normalization_9 (Batch (None, 128)               512       \n",
      "_________________________________________________________________\n",
      "output (Dense)               (None, 10)                1290      \n",
      "=================================================================\n",
      "Total params: 1,742,474\n",
      "Trainable params: 1,740,682\n",
      "Non-trainable params: 1,792\n",
      "_________________________________________________________________\n",
      "Train on 50000 samples, validate on 10000 samples\n",
      "Epoch 1/25\n",
      "50000/50000 [==============================] - 23s 469us/step - loss: 2.2174 - acc: 0.2756 - val_loss: 2.1291 - val_acc: 0.3226\n"
     ]
    },
    {
     "name": "stderr",
     "output_type": "stream",
     "text": [
      "c:\\python36\\lib\\site-packages\\sklearn\\metrics\\classification.py:1143: UndefinedMetricWarning: F-score is ill-defined and being set to 0.0 in labels with no predicted samples.\n",
      "  'precision', 'predicted', average, warn_for)\n"
     ]
    },
    {
     "name": "stdout",
     "output_type": "stream",
     "text": [
      "Epoch 2/25\n",
      "50000/50000 [==============================] - 19s 387us/step - loss: 1.7621 - acc: 0.3894 - val_loss: 1.8479 - val_acc: 0.3714\n",
      "Epoch 3/25\n",
      "50000/50000 [==============================] - 19s 387us/step - loss: 1.6349 - acc: 0.4309 - val_loss: 1.7211 - val_acc: 0.3986\n",
      "Epoch 4/25\n",
      "50000/50000 [==============================] - 19s 387us/step - loss: 1.5606 - acc: 0.4575 - val_loss: 1.6423 - val_acc: 0.4261\n",
      "Epoch 5/25\n",
      "50000/50000 [==============================] - 19s 385us/step - loss: 1.5017 - acc: 0.4778 - val_loss: 1.6032 - val_acc: 0.4371\n",
      "Epoch 6/25\n",
      "50000/50000 [==============================] - 19s 382us/step - loss: 1.4559 - acc: 0.4928 - val_loss: 1.5883 - val_acc: 0.4359\n",
      "Epoch 7/25\n",
      "50000/50000 [==============================] - 19s 389us/step - loss: 1.4153 - acc: 0.5087 - val_loss: 1.5434 - val_acc: 0.4545\n",
      "Epoch 8/25\n",
      "50000/50000 [==============================] - 16s 319us/step - loss: 1.3784 - acc: 0.5223 - val_loss: 1.5265 - val_acc: 0.4621\n",
      "Epoch 9/25\n",
      "50000/50000 [==============================] - 17s 331us/step - loss: 1.3464 - acc: 0.5322 - val_loss: 1.5196 - val_acc: 0.4641\n",
      "Epoch 10/25\n",
      "50000/50000 [==============================] - 19s 389us/step - loss: 1.3167 - acc: 0.5418 - val_loss: 1.5163 - val_acc: 0.4682\n",
      "Epoch 11/25\n",
      "50000/50000 [==============================] - 19s 389us/step - loss: 1.2873 - acc: 0.5528 - val_loss: 1.5079 - val_acc: 0.4711\n",
      "Epoch 12/25\n",
      "50000/50000 [==============================] - 19s 388us/step - loss: 1.2575 - acc: 0.5635 - val_loss: 1.4920 - val_acc: 0.4728\n",
      "Epoch 13/25\n",
      "50000/50000 [==============================] - 20s 393us/step - loss: 1.2315 - acc: 0.5729 - val_loss: 1.4701 - val_acc: 0.4862\n",
      "Epoch 14/25\n",
      "50000/50000 [==============================] - 19s 385us/step - loss: 1.2059 - acc: 0.5836 - val_loss: 1.4592 - val_acc: 0.4832\n",
      "Epoch 15/25\n",
      "50000/50000 [==============================] - 20s 391us/step - loss: 1.1800 - acc: 0.5927 - val_loss: 1.4575 - val_acc: 0.4878\n",
      "Epoch 16/25\n",
      "50000/50000 [==============================] - 19s 385us/step - loss: 1.1562 - acc: 0.6009 - val_loss: 1.4508 - val_acc: 0.4890\n",
      "Epoch 17/25\n",
      "50000/50000 [==============================] - 19s 383us/step - loss: 1.1328 - acc: 0.6100 - val_loss: 1.4615 - val_acc: 0.4818\n",
      "Epoch 18/25\n",
      "50000/50000 [==============================] - 19s 388us/step - loss: 1.1103 - acc: 0.6202 - val_loss: 1.4554 - val_acc: 0.4872\n",
      "Epoch 19/25\n",
      "50000/50000 [==============================] - 19s 387us/step - loss: 1.0881 - acc: 0.6267 - val_loss: 1.4534 - val_acc: 0.4895\n",
      "Epoch 20/25\n",
      "50000/50000 [==============================] - 22s 441us/step - loss: 1.0660 - acc: 0.6353 - val_loss: 1.4623 - val_acc: 0.4904\n",
      "Epoch 21/25\n",
      "50000/50000 [==============================] - 23s 458us/step - loss: 1.0422 - acc: 0.6442 - val_loss: 1.4549 - val_acc: 0.4894\n",
      "Epoch 22/25\n",
      "50000/50000 [==============================] - 23s 459us/step - loss: 1.0224 - acc: 0.6519 - val_loss: 1.4486 - val_acc: 0.4917\n",
      "Epoch 23/25\n",
      "50000/50000 [==============================] - 20s 408us/step - loss: 0.9991 - acc: 0.6605 - val_loss: 1.4479 - val_acc: 0.4938\n",
      "Epoch 24/25\n",
      "50000/50000 [==============================] - 19s 383us/step - loss: 0.9770 - acc: 0.6691 - val_loss: 1.4612 - val_acc: 0.4942\n",
      "Epoch 25/25\n",
      "50000/50000 [==============================] - 19s 381us/step - loss: 0.9556 - acc: 0.6773 - val_loss: 1.4553 - val_acc: 0.4923\n"
     ]
    }
   ],
   "source": [
    "model = build_mlp(input_shape=x_train.shape[1:])\n",
    "model.summary()\n",
    "optimizer = keras.optimizers.SGD(lr=LEARNING_RATE, nesterov=True, momentum=MOMENTUM)\n",
    "model.compile(loss=\"categorical_crossentropy\", metrics=[\"accuracy\"], optimizer=optimizer)\n",
    "\n",
    "\n",
    "model.fit(x_train, y_train, \n",
    "          epochs=EPOCHS, \n",
    "          batch_size=BATCH_SIZE, \n",
    "          validation_data=(x_test, y_test), \n",
    "          shuffle=True,\n",
    "          callbacks=[log_f1sc]\n",
    "         )\n",
    "\n",
    "# Collect results\n",
    "train_loss = model.history.history[\"loss\"]\n",
    "valid_loss = model.history.history[\"val_loss\"]\n",
    "train_acc = model.history.history[\"acc\"]\n",
    "valid_acc = model.history.history[\"val_acc\"]\n",
    "\n",
    "valid_f1sc = model.history.history['val_f1sc']"
   ]
  },
  {
   "cell_type": "code",
   "execution_count": 27,
   "metadata": {},
   "outputs": [
    {
     "data": {
      "image/png": "[encoded data removed]",
      "text/plain": [
       "<Figure size 432x288 with 1 Axes>"
      ]
     },
     "metadata": {
      "needs_background": "light"
     },
     "output_type": "display_data"
    },
    {
     "data": {
      "image/png": "[encoded data removed]",
      "text/plain": [
       "<Figure size 432x288 with 1 Axes>"
      ]
     },
     "metadata": {
      "needs_background": "light"
     },
     "output_type": "display_data"
    },
    {
     "data": {
      "image/png": "[encoded data removed]",
      "text/plain": [
       "<Figure size 432x288 with 1 Axes>"
      ]
     },
     "metadata": {
      "needs_background": "light"
     },
     "output_type": "display_data"
    }
   ],
   "source": [
    "import matplotlib.pyplot as plt\n",
    "%matplotlib inline\n",
    "\n",
    "plt.plot(range(len(train_loss)), train_loss, label=\"train loss\")\n",
    "plt.plot(range(len(valid_loss)), valid_loss, label=\"valid loss\")\n",
    "plt.legend()\n",
    "plt.title(\"Loss\")\n",
    "plt.show()\n",
    "\n",
    "plt.plot(range(len(train_acc)), train_acc, label=\"train accuracy\")\n",
    "plt.plot(range(len(valid_acc)), valid_acc, label=\"valid accuracy\")\n",
    "plt.legend()\n",
    "plt.title(\"Accuracy\")\n",
    "plt.show()\n",
    "\n",
    "plt.plot(range(len(valid_f1sc)), valid_f1sc, label=\"valid f1-score\")\n",
    "plt.legend()\n",
    "plt.title(\"F1-score\")\n",
    "plt.show()\n"
   ]
  },
  {
   "cell_type": "code",
   "execution_count": null,
   "metadata": {},
   "outputs": [],
   "source": []
  }
 ],
 "metadata": {
  "kernelspec": {
   "display_name": "Python 3",
   "language": "python",
   "name": "python3"
  },
  "language_info": {
   "codemirror_mode": {
    "name": "ipython",
    "version": 3
   },
   "file_extension": ".py",
   "mimetype": "text/x-python",
   "name": "python",
   "nbconvert_exporter": "python",
   "pygments_lexer": "ipython3",
   "version": "3.6.7"
  }
 },
 "nbformat": 4,
 "nbformat_minor": 2
}
