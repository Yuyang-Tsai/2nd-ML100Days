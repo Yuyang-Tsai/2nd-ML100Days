{
 "cells": [
  {
   "cell_type": "markdown",
   "metadata": {},
   "source": [
    "## Work\n",
    "1. 試比較 save_best_only 與否的差異\n",
    "2. 請僅存入將 save_weights_only 設定為 True, 並嘗試 reset ipynb 並將模型與權重重新建回並預測 x_test"
   ]
  },
  {
   "cell_type": "code",
   "execution_count": 1,
   "metadata": {},
   "outputs": [
    {
     "name": "stderr",
     "output_type": "stream",
     "text": [
      "Using TensorFlow backend.\n"
     ]
    }
   ],
   "source": [
    "import os\n",
    "import keras\n",
    "\n",
    "# Disable GPU\n",
    "os.environ[\"CUDA_VISIBLE_DEVICES\"] = \"\""
   ]
  },
  {
   "cell_type": "code",
   "execution_count": 2,
   "metadata": {},
   "outputs": [],
   "source": [
    "train, test = keras.datasets.cifar10.load_data()"
   ]
  },
  {
   "cell_type": "code",
   "execution_count": 3,
   "metadata": {},
   "outputs": [],
   "source": [
    "## 資料前處理\n",
    "def preproc_x(x, flatten=True):\n",
    "    x = x / 255.\n",
    "    if flatten:\n",
    "        x = x.reshape((len(x), -1))\n",
    "    return x\n",
    "\n",
    "def preproc_y(y, num_classes=10):\n",
    "    if y.shape[-1] == 1:\n",
    "        y = keras.utils.to_categorical(y, num_classes)\n",
    "    return y    "
   ]
  },
  {
   "cell_type": "code",
   "execution_count": 4,
   "metadata": {},
   "outputs": [],
   "source": [
    "x_train, y_train = train\n",
    "x_test, y_test = test\n",
    "\n",
    "# Preproc the inputs\n",
    "x_train = preproc_x(x_train)\n",
    "x_test = preproc_x(x_test)\n",
    "\n",
    "# Preprc the outputs\n",
    "y_train = preproc_y(y_train)\n",
    "y_test = preproc_y(y_test)"
   ]
  },
  {
   "cell_type": "code",
   "execution_count": 5,
   "metadata": {},
   "outputs": [],
   "source": [
    "from keras.layers import BatchNormalization\n",
    "\n",
    "\"\"\"\n",
    "建立神經網路，並加入 BN layer\n",
    "\"\"\"\n",
    "def build_mlp(input_shape, output_units=10, num_neurons=[512, 256, 128]):\n",
    "    input_layer = keras.layers.Input(input_shape)\n",
    "    \n",
    "    for i, n_units in enumerate(num_neurons):\n",
    "        if i == 0:\n",
    "            x = keras.layers.Dense(units=n_units, \n",
    "                                   activation=\"relu\", \n",
    "                                   name=\"hidden_layer\"+str(i+1))(input_layer)\n",
    "            x = BatchNormalization()(x)\n",
    "        else:\n",
    "            x = keras.layers.Dense(units=n_units, \n",
    "                                   activation=\"relu\", \n",
    "                                   name=\"hidden_layer\"+str(i+1))(x)\n",
    "            x = BatchNormalization()(x)\n",
    "    \n",
    "    out = keras.layers.Dense(units=output_units, activation=\"softmax\", name=\"output\")(x)\n",
    "    \n",
    "    model = keras.models.Model(inputs=[input_layer], outputs=[out])\n",
    "    return model"
   ]
  },
  {
   "cell_type": "code",
   "execution_count": 6,
   "metadata": {},
   "outputs": [],
   "source": [
    "## 超參數設定\n",
    "LEARNING_RATE = 1e-3\n",
    "EPOCHS = 30\n",
    "BATCH_SIZE = 128\n",
    "MOMENTUM = 0.95"
   ]
  },
  {
   "cell_type": "code",
   "execution_count": 9,
   "metadata": {
    "scrolled": true
   },
   "outputs": [
    {
     "name": "stdout",
     "output_type": "stream",
     "text": [
      "_________________________________________________________________\n",
      "Layer (type)                 Output Shape              Param #   \n",
      "=================================================================\n",
      "input_1 (InputLayer)         (None, 3072)              0         \n",
      "_________________________________________________________________\n",
      "hidden_layer1 (Dense)        (None, 512)               1573376   \n",
      "_________________________________________________________________\n",
      "batch_normalization_1 (Batch (None, 512)               2048      \n",
      "_________________________________________________________________\n",
      "hidden_layer2 (Dense)        (None, 256)               131328    \n",
      "_________________________________________________________________\n",
      "batch_normalization_2 (Batch (None, 256)               1024      \n",
      "_________________________________________________________________\n",
      "hidden_layer3 (Dense)        (None, 128)               32896     \n",
      "_________________________________________________________________\n",
      "batch_normalization_3 (Batch (None, 128)               512       \n",
      "_________________________________________________________________\n",
      "output (Dense)               (None, 10)                1290      \n",
      "=================================================================\n",
      "Total params: 1,742,474\n",
      "Trainable params: 1,740,682\n",
      "Non-trainable params: 1,792\n",
      "_________________________________________________________________\n",
      "Train on 50000 samples, validate on 10000 samples\n",
      "Epoch 1/30\n",
      "50000/50000 [==============================] - 42s 841us/step - loss: 1.6937 - acc: 0.4021 - val_loss: 1.6672 - val_acc: 0.3980\n",
      "Epoch 2/30\n",
      "50000/50000 [==============================] - 45s 901us/step - loss: 1.4881 - acc: 0.4720 - val_loss: 1.7648 - val_acc: 0.3757\n",
      "Epoch 3/30\n",
      "50000/50000 [==============================] - 40s 807us/step - loss: 1.4085 - acc: 0.4981 - val_loss: 1.6419 - val_acc: 0.4045\n",
      "Epoch 4/30\n",
      "50000/50000 [==============================] - 46s 911us/step - loss: 1.3496 - acc: 0.5196 - val_loss: 1.5679 - val_acc: 0.4463\n",
      "Epoch 5/30\n",
      "50000/50000 [==============================] - 39s 788us/step - loss: 1.2932 - acc: 0.5379 - val_loss: 1.7115 - val_acc: 0.3985\n",
      "Epoch 6/30\n",
      "50000/50000 [==============================] - 40s 790us/step - loss: 1.2476 - acc: 0.5544 - val_loss: 1.5537 - val_acc: 0.4581\n",
      "Epoch 7/30\n",
      "50000/50000 [==============================] - 39s 772us/step - loss: 1.1922 - acc: 0.5772 - val_loss: 1.4677 - val_acc: 0.4775\n",
      "Epoch 8/30\n",
      "50000/50000 [==============================] - 44s 883us/step - loss: 1.1504 - acc: 0.5895 - val_loss: 1.5486 - val_acc: 0.4667\n",
      "Epoch 9/30\n",
      "50000/50000 [==============================] - 44s 889us/step - loss: 1.1144 - acc: 0.6011 - val_loss: 1.5438 - val_acc: 0.4640\n",
      "Epoch 10/30\n",
      "50000/50000 [==============================] - 41s 813us/step - loss: 1.0703 - acc: 0.6166 - val_loss: 1.4794 - val_acc: 0.4964\n",
      "Epoch 11/30\n",
      "50000/50000 [==============================] - 39s 779us/step - loss: 1.0389 - acc: 0.6289 - val_loss: 1.5700 - val_acc: 0.4719\n",
      "Epoch 12/30\n",
      "50000/50000 [==============================] - 44s 884us/step - loss: 1.0113 - acc: 0.6401 - val_loss: 1.5637 - val_acc: 0.4760\n",
      "Epoch 13/30\n",
      "50000/50000 [==============================] - 42s 848us/step - loss: 0.9838 - acc: 0.6503 - val_loss: 1.5651 - val_acc: 0.4721\n",
      "Epoch 14/30\n",
      "50000/50000 [==============================] - 36s 719us/step - loss: 0.9551 - acc: 0.6606 - val_loss: 1.5317 - val_acc: 0.4912\n",
      "Epoch 15/30\n",
      "50000/50000 [==============================] - 38s 768us/step - loss: 0.9185 - acc: 0.6730 - val_loss: 1.6524 - val_acc: 0.4660\n",
      "Epoch 16/30\n",
      "50000/50000 [==============================] - 48s 965us/step - loss: 0.8934 - acc: 0.6802 - val_loss: 1.5052 - val_acc: 0.5069\n",
      "Epoch 17/30\n",
      "50000/50000 [==============================] - 50s 1ms/step - loss: 0.8616 - acc: 0.6921 - val_loss: 1.5072 - val_acc: 0.5027\n",
      "Epoch 18/30\n",
      "50000/50000 [==============================] - 47s 943us/step - loss: 0.8377 - acc: 0.7034 - val_loss: 1.6614 - val_acc: 0.4694\n",
      "Epoch 19/30\n",
      "50000/50000 [==============================] - 38s 761us/step - loss: 0.8157 - acc: 0.7081 - val_loss: 1.6137 - val_acc: 0.4920\n",
      "Epoch 20/30\n",
      "50000/50000 [==============================] - 35s 706us/step - loss: 0.7907 - acc: 0.7169 - val_loss: 1.6644 - val_acc: 0.4876\n",
      "Epoch 21/30\n",
      "50000/50000 [==============================] - 47s 939us/step - loss: 0.7675 - acc: 0.7250 - val_loss: 1.8231 - val_acc: 0.4639\n",
      "Epoch 22/30\n",
      "50000/50000 [==============================] - 47s 946us/step - loss: 0.7434 - acc: 0.7342 - val_loss: 1.6316 - val_acc: 0.4943\n",
      "Epoch 23/30\n",
      "50000/50000 [==============================] - 42s 849us/step - loss: 0.7236 - acc: 0.7422 - val_loss: 1.8031 - val_acc: 0.4790\n",
      "Epoch 24/30\n",
      "50000/50000 [==============================] - 46s 929us/step - loss: 0.7050 - acc: 0.7475 - val_loss: 1.6709 - val_acc: 0.4977\n",
      "Epoch 25/30\n",
      "50000/50000 [==============================] - 44s 888us/step - loss: 0.6819 - acc: 0.7566 - val_loss: 2.5568 - val_acc: 0.3827\n",
      "Epoch 26/30\n",
      "50000/50000 [==============================] - 43s 853us/step - loss: 0.6673 - acc: 0.7613 - val_loss: 1.7319 - val_acc: 0.4925\n",
      "Epoch 27/30\n",
      "50000/50000 [==============================] - 39s 780us/step - loss: 0.6504 - acc: 0.7669 - val_loss: 1.8096 - val_acc: 0.4861\n",
      "Epoch 28/30\n",
      "50000/50000 [==============================] - 39s 773us/step - loss: 0.6365 - acc: 0.7720 - val_loss: 1.7823 - val_acc: 0.4944\n",
      "Epoch 29/30\n",
      "50000/50000 [==============================] - 39s 788us/step - loss: 0.6087 - acc: 0.7817 - val_loss: 1.8899 - val_acc: 0.4817\n",
      "Epoch 30/30\n",
      "50000/50000 [==============================] - 38s 759us/step - loss: 0.5973 - acc: 0.7860 - val_loss: 1.8513 - val_acc: 0.4893\n"
     ]
    }
   ],
   "source": [
    "# 載入 Callbacks\n",
    "from keras.callbacks import ModelCheckpoint\n",
    "\n",
    "model_ckpt = ModelCheckpoint(filepath=\"./model_best.h5\", \n",
    "                             monitor=\"val_loss\", \n",
    "                             save_best_only=True)\n",
    "\n",
    "\n",
    "keras.backend.clear_session() # 把舊的 Graph 清掉\n",
    "model = build_mlp(input_shape=x_train.shape[1:])\n",
    "model.summary()\n",
    "optimizer = keras.optimizers.Adam(lr=LEARNING_RATE)\n",
    "model.compile(loss=\"categorical_crossentropy\", metrics=[\"accuracy\"], optimizer=optimizer)\n",
    "\n",
    "model.fit(x_train, y_train, \n",
    "                  epochs=EPOCHS, \n",
    "                  batch_size=BATCH_SIZE, \n",
    "                  validation_data=(x_test, y_test), \n",
    "                  shuffle=True, callbacks=[model_ckpt])\n",
    "\n",
    "# Collect results\n",
    "train_loss = model.history.history[\"loss\"]\n",
    "valid_loss = model.history.history[\"val_loss\"]\n",
    "train_acc = model.history.history[\"acc\"]\n",
    "valid_acc = model.history.history[\"val_acc\"]\n",
    "\n"
   ]
  },
  {
   "cell_type": "code",
   "execution_count": 21,
   "metadata": {
    "scrolled": true
   },
   "outputs": [
    {
     "data": {
      "image/png": "[encoded data removed]",
      "text/plain": [
       "<Figure size 432x288 with 1 Axes>"
      ]
     },
     "metadata": {
      "needs_background": "light"
     },
     "output_type": "display_data"
    },
    {
     "data": {
      "image/png": "[encoded data removed]",
      "text/plain": [
       "<Figure size 432x288 with 1 Axes>"
      ]
     },
     "metadata": {
      "needs_background": "light"
     },
     "output_type": "display_data"
    }
   ],
   "source": [
    "import matplotlib.pyplot as plt\n",
    "%matplotlib inline\n",
    "\n",
    "plt.plot(range(len(train_acc)), train_acc, label=\"Train_Acc\")\n",
    "plt.plot(range(len(valid_acc)), valid_acc, label=\"Valid_Acc\")\n",
    "plt.legend()\n",
    "plt.show()\n",
    "\n",
    "plt.plot(range(len(train_acc)), train_loss, label=\"Train_Loss\")\n",
    "plt.plot(range(len(valid_acc)), valid_loss, label=\"Valid_Loss\")\n",
    "plt.legend()\n",
    "plt.show()"
   ]
  },
  {
   "cell_type": "code",
   "execution_count": 30,
   "metadata": {},
   "outputs": [
    {
     "name": "stdout",
     "output_type": "stream",
     "text": [
      "10000/10000 [==============================] - 5s 492us/step\n"
     ]
    },
    {
     "data": {
      "text/plain": [
       "[2.4024450187683106, 0.1121]"
      ]
     },
     "execution_count": 30,
     "metadata": {},
     "output_type": "execute_result"
    }
   ],
   "source": [
    "model = build_mlp(input_shape=x_train.shape[1:])\n",
    "optimizer = keras.optimizers.Adam(lr=LEARNING_RATE)\n",
    "model.compile(loss=\"categorical_crossentropy\", metrics=[\"accuracy\"], optimizer=optimizer)\n",
    "\n",
    "\n",
    "model.evaluate(x_test, y_test)"
   ]
  },
  {
   "cell_type": "code",
   "execution_count": 31,
   "metadata": {},
   "outputs": [
    {
     "name": "stdout",
     "output_type": "stream",
     "text": [
      "10000/10000 [==============================] - 3s 314us/step\n"
     ]
    },
    {
     "data": {
      "text/plain": [
       "[1.4677309776306153, 0.4775]"
      ]
     },
     "execution_count": 31,
     "metadata": {},
     "output_type": "execute_result"
    }
   ],
   "source": [
    "model = keras.models.load_model(\"model_best.h5\")\n",
    "model.evaluate(x_test, y_test)"
   ]
  },
  {
   "cell_type": "code",
   "execution_count": null,
   "metadata": {},
   "outputs": [],
   "source": []
  }
 ],
 "metadata": {
  "kernelspec": {
   "display_name": "Python 3",
   "language": "python",
   "name": "python3"
  },
  "language_info": {
   "codemirror_mode": {
    "name": "ipython",
    "version": 3
   },
   "file_extension": ".py",
   "mimetype": "text/x-python",
   "name": "python",
   "nbconvert_exporter": "python",
   "pygments_lexer": "ipython3",
   "version": "3.6.7"
  }
 },
 "nbformat": 4,
 "nbformat_minor": 2
}
