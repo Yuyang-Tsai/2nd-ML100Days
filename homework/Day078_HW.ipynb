{
 "cells": [
  {
   "cell_type": "markdown",
   "metadata": {},
   "source": [
    "## Work\n",
    "1. 請嘗試將 preproc_x 替換成以每筆資料的 min/max 進行標準化至 -1 ~ 1 間，再進行訓練\n",
    "2. 請嘗試將 mlp 疊更深 (e.g 5~10 層)，進行訓練後觀察 learning curve 的走勢\n",
    "3. (optional) 請改用 GPU 進行訓練 (如果你有 GPU 的話)，比較使用 CPU 與 GPU 的訓練速度"
   ]
  },
  {
   "cell_type": "code",
   "execution_count": 1,
   "metadata": {},
   "outputs": [
    {
     "name": "stderr",
     "output_type": "stream",
     "text": [
      "Using TensorFlow backend.\n"
     ]
    }
   ],
   "source": [
    "import os\n",
    "import keras\n"
   ]
  },
  {
   "cell_type": "code",
   "execution_count": 2,
   "metadata": {},
   "outputs": [],
   "source": [
    "train, test = keras.datasets.cifar10.load_data()"
   ]
  },
  {
   "cell_type": "code",
   "execution_count": 3,
   "metadata": {},
   "outputs": [
    {
     "data": {
      "text/plain": [
       "(50000, 32, 32, 3)"
      ]
     },
     "execution_count": 3,
     "metadata": {},
     "output_type": "execute_result"
    }
   ],
   "source": [
    "x_train, y_train = train\n",
    "x_test, y_test = test\n",
    "x_train.shape"
   ]
  },
  {
   "cell_type": "code",
   "execution_count": 4,
   "metadata": {},
   "outputs": [],
   "source": [
    "## 資料前處理\n",
    "def preproc_x(x, flatten=True):\n",
    "    maxi = x.max()\n",
    "    mini = x.min()\n",
    "    if (maxi - mini) == 0 :\n",
    "        x = (x - mini) / 0.1\n",
    "    x = (x - mini) / (maxi - mini)\n",
    "    if flatten:\n",
    "        x = x.reshape((len(x), -1))\n",
    "    return x\n",
    "\n",
    "def preproc_y(y, num_classes=10):\n",
    "    if y.shape[-1] == 1:\n",
    "        y = keras.utils.to_categorical(y, num_classes)\n",
    "    return y  "
   ]
  },
  {
   "cell_type": "code",
   "execution_count": 5,
   "metadata": {},
   "outputs": [],
   "source": [
    "x_train, y_train = train\n",
    "x_test, y_test = test\n",
    "\n",
    "# Preproc the inputs\n",
    "x_train = preproc_x(x_train)\n",
    "x_test = preproc_x(x_test)\n",
    "\n",
    "# Preprc the outputs\n",
    "y_train = preproc_y(y_train)\n",
    "y_test = preproc_y(y_test)"
   ]
  },
  {
   "cell_type": "code",
   "execution_count": 8,
   "metadata": {},
   "outputs": [
    {
     "data": {
      "text/plain": [
       "(3072,)"
      ]
     },
     "execution_count": 8,
     "metadata": {},
     "output_type": "execute_result"
    }
   ],
   "source": [
    "x_train.shape[1:]"
   ]
  },
  {
   "cell_type": "code",
   "execution_count": 9,
   "metadata": {},
   "outputs": [
    {
     "name": "stdout",
     "output_type": "stream",
     "text": [
      "_________________________________________________________________\n",
      "Layer (type)                 Output Shape              Param #   \n",
      "=================================================================\n",
      "input_1 (InputLayer)         (None, 3072)              0         \n",
      "_________________________________________________________________\n",
      "hidden_layer1 (Dense)        (None, 512)               1573376   \n",
      "_________________________________________________________________\n",
      "hidden_layer2 (Dense)        (None, 256)               131328    \n",
      "_________________________________________________________________\n",
      "hidden_layer3 (Dense)        (None, 128)               32896     \n",
      "_________________________________________________________________\n",
      "output (Dense)               (None, 10)                1290      \n",
      "=================================================================\n",
      "Total params: 1,738,890\n",
      "Trainable params: 1,738,890\n",
      "Non-trainable params: 0\n",
      "_________________________________________________________________\n"
     ]
    }
   ],
   "source": [
    "\"\"\"Code Here\n",
    "建立你的神經網路\n",
    "\"\"\"\n",
    "def build_mlp(input_shape, output_units=10, num_neurons=[512, 256, 128]):\n",
    "    input_layer = keras.layers.Input(input_shape)\n",
    "    \n",
    "    for i, n_units in enumerate(num_neurons):\n",
    "        if i == 0:\n",
    "            x = keras.layers.Dense(units=n_units, activation=\"relu\", name=\"hidden_layer\"+str(i+1))(input_layer)\n",
    "        else:\n",
    "            x = keras.layers.Dense(units=n_units, activation=\"relu\", name=\"hidden_layer\"+str(i+1))(x)\n",
    "    \n",
    "    out = keras.layers.Dense(units=output_units, activation=\"softmax\", name=\"output\")(x)\n",
    "    \n",
    "    model = keras.models.Model(inputs=[input_layer], outputs=[out])\n",
    "    return model\n",
    "model = build_mlp([3072,])\n",
    "model.summary()"
   ]
  },
  {
   "cell_type": "code",
   "execution_count": 13,
   "metadata": {},
   "outputs": [],
   "source": [
    "## 超參數設定\n",
    "LEARNING_RATE = 0.001\n",
    "EPOCHS = 30\n",
    "BATCH_SIZE = 256"
   ]
  },
  {
   "cell_type": "code",
   "execution_count": 14,
   "metadata": {},
   "outputs": [],
   "source": [
    "optimizer = keras.optimizers.Adam(lr=LEARNING_RATE)\n",
    "model.compile(loss=\"categorical_crossentropy\", metrics=[\"accuracy\"], optimizer=optimizer)"
   ]
  },
  {
   "cell_type": "code",
   "execution_count": 15,
   "metadata": {},
   "outputs": [
    {
     "name": "stdout",
     "output_type": "stream",
     "text": [
      "Train on 50000 samples, validate on 10000 samples\n",
      "Epoch 1/30\n",
      "50000/50000 [==============================] - 26s 514us/step - loss: 1.8071 - acc: 0.3513 - val_loss: 1.6964 - val_acc: 0.3977\n",
      "Epoch 2/30\n",
      "50000/50000 [==============================] - 25s 498us/step - loss: 1.6779 - acc: 0.3981 - val_loss: 1.6759 - val_acc: 0.4056\n",
      "Epoch 3/30\n",
      "50000/50000 [==============================] - 25s 499us/step - loss: 1.5903 - acc: 0.4332 - val_loss: 1.5651 - val_acc: 0.4385\n",
      "Epoch 4/30\n",
      "50000/50000 [==============================] - 25s 495us/step - loss: 1.5404 - acc: 0.4489 - val_loss: 1.5416 - val_acc: 0.4467\n",
      "Epoch 5/30\n",
      "50000/50000 [==============================] - 25s 499us/step - loss: 1.4858 - acc: 0.4717 - val_loss: 1.5112 - val_acc: 0.4569\n",
      "Epoch 6/30\n",
      "50000/50000 [==============================] - 25s 501us/step - loss: 1.4536 - acc: 0.4811 - val_loss: 1.4917 - val_acc: 0.4662\n",
      "Epoch 7/30\n",
      "50000/50000 [==============================] - 25s 500us/step - loss: 1.4122 - acc: 0.4961 - val_loss: 1.4673 - val_acc: 0.4747\n",
      "Epoch 8/30\n",
      "50000/50000 [==============================] - 25s 504us/step - loss: 1.4078 - acc: 0.4983 - val_loss: 1.4776 - val_acc: 0.4752\n",
      "Epoch 9/30\n",
      "50000/50000 [==============================] - 25s 504us/step - loss: 1.3723 - acc: 0.5105 - val_loss: 1.4246 - val_acc: 0.4907\n",
      "Epoch 10/30\n",
      "50000/50000 [==============================] - 25s 503us/step - loss: 1.3440 - acc: 0.5210 - val_loss: 1.4057 - val_acc: 0.5009\n",
      "Epoch 11/30\n",
      "50000/50000 [==============================] - 25s 498us/step - loss: 1.3184 - acc: 0.5335 - val_loss: 1.4055 - val_acc: 0.4990\n",
      "Epoch 12/30\n",
      "50000/50000 [==============================] - 25s 501us/step - loss: 1.2943 - acc: 0.5395 - val_loss: 1.3880 - val_acc: 0.5069\n",
      "Epoch 13/30\n",
      "50000/50000 [==============================] - 23s 467us/step - loss: 1.2692 - acc: 0.5503 - val_loss: 1.3836 - val_acc: 0.5112\n",
      "Epoch 14/30\n",
      "50000/50000 [==============================] - 23s 457us/step - loss: 1.2512 - acc: 0.5534 - val_loss: 1.3825 - val_acc: 0.5139\n",
      "Epoch 15/30\n",
      "50000/50000 [==============================] - 23s 458us/step - loss: 1.2353 - acc: 0.5600 - val_loss: 1.3530 - val_acc: 0.5243\n",
      "Epoch 16/30\n",
      "50000/50000 [==============================] - 23s 459us/step - loss: 1.2155 - acc: 0.5681 - val_loss: 1.4050 - val_acc: 0.5010\n",
      "Epoch 17/30\n",
      "50000/50000 [==============================] - 23s 459us/step - loss: 1.1954 - acc: 0.5736 - val_loss: 1.4058 - val_acc: 0.5053\n",
      "Epoch 18/30\n",
      "50000/50000 [==============================] - 22s 446us/step - loss: 1.1798 - acc: 0.5792 - val_loss: 1.3649 - val_acc: 0.5273\n",
      "Epoch 19/30\n",
      "50000/50000 [==============================] - 23s 466us/step - loss: 1.1528 - acc: 0.5889 - val_loss: 1.4074 - val_acc: 0.5075\n",
      "Epoch 20/30\n",
      "50000/50000 [==============================] - 23s 463us/step - loss: 1.1414 - acc: 0.5913 - val_loss: 1.3859 - val_acc: 0.5207\n",
      "Epoch 21/30\n",
      "50000/50000 [==============================] - 23s 463us/step - loss: 1.1197 - acc: 0.5991 - val_loss: 1.3497 - val_acc: 0.5292\n",
      "Epoch 22/30\n",
      "50000/50000 [==============================] - 23s 465us/step - loss: 1.1076 - acc: 0.6060 - val_loss: 1.3967 - val_acc: 0.5200\n",
      "Epoch 23/30\n",
      "50000/50000 [==============================] - 23s 464us/step - loss: 1.0865 - acc: 0.6118 - val_loss: 1.3825 - val_acc: 0.5281\n",
      "Epoch 24/30\n",
      "50000/50000 [==============================] - 24s 473us/step - loss: 1.0685 - acc: 0.6197 - val_loss: 1.4125 - val_acc: 0.5155\n",
      "Epoch 25/30\n",
      "50000/50000 [==============================] - 23s 464us/step - loss: 1.0514 - acc: 0.6236 - val_loss: 1.3789 - val_acc: 0.5241\n",
      "Epoch 26/30\n",
      "50000/50000 [==============================] - 20s 402us/step - loss: 1.0322 - acc: 0.6323 - val_loss: 1.4028 - val_acc: 0.5284\n",
      "Epoch 27/30\n",
      "50000/50000 [==============================] - 11s 216us/step - loss: 1.0199 - acc: 0.6356 - val_loss: 1.4233 - val_acc: 0.5196\n",
      "Epoch 28/30\n",
      "50000/50000 [==============================] - 503s 10ms/step - loss: 1.0052 - acc: 0.6411 - val_loss: 1.3911 - val_acc: 0.5320\n",
      "Epoch 29/30\n",
      "50000/50000 [==============================] - 12s 247us/step - loss: 0.9847 - acc: 0.6473 - val_loss: 1.4219 - val_acc: 0.5235\n",
      "Epoch 30/30\n",
      "50000/50000 [==============================] - 12s 240us/step - loss: 0.9858 - acc: 0.6471 - val_loss: 1.4157 - val_acc: 0.5242\n"
     ]
    },
    {
     "data": {
      "text/plain": [
       "<keras.callbacks.History at 0x1488bd5e518>"
      ]
     },
     "execution_count": 15,
     "metadata": {},
     "output_type": "execute_result"
    }
   ],
   "source": [
    "model.fit(x_train, y_train, \n",
    "          epochs=EPOCHS, \n",
    "          batch_size=BATCH_SIZE, \n",
    "          validation_data=(x_test, y_test), \n",
    "          shuffle=True)"
   ]
  },
  {
   "cell_type": "code",
   "execution_count": 17,
   "metadata": {},
   "outputs": [
    {
     "data": {
      "image/png": "[encoded data removed]",
      "text/plain": [
       "<Figure size 432x288 with 1 Axes>"
      ]
     },
     "metadata": {
      "needs_background": "light"
     },
     "output_type": "display_data"
    },
    {
     "data": {
      "image/png": "[encoded data removed]",
      "text/plain": [
       "<Figure size 432x288 with 1 Axes>"
      ]
     },
     "metadata": {
      "needs_background": "light"
     },
     "output_type": "display_data"
    }
   ],
   "source": [
    "import matplotlib.pyplot as plt\n",
    "\n",
    "\n",
    "train_loss = model.history.history[\"loss\"]\n",
    "valid_loss = model.history.history[\"val_loss\"]\n",
    "\n",
    "train_acc = model.history.history[\"acc\"]\n",
    "valid_acc = model.history.history[\"val_acc\"]\n",
    "\n",
    "plt.plot(range(len(train_loss)), train_loss, label=\"train loss\")\n",
    "plt.plot(range(len(valid_loss)), valid_loss, label=\"valid loss\")\n",
    "plt.legend()\n",
    "plt.title(\"Loss\")\n",
    "plt.show()\n",
    "\n",
    "plt.plot(range(len(train_acc)), train_acc, label=\"train accuracy\")\n",
    "plt.plot(range(len(valid_acc)), valid_acc, label=\"valid accuracy\")\n",
    "plt.legend()\n",
    "plt.title(\"Accuracy\")\n",
    "plt.show()"
   ]
  },
  {
   "cell_type": "code",
   "execution_count": null,
   "metadata": {},
   "outputs": [],
   "source": []
  }
 ],
 "metadata": {
  "kernelspec": {
   "display_name": "Python 3",
   "language": "python",
   "name": "python3"
  },
  "language_info": {
   "codemirror_mode": {
    "name": "ipython",
    "version": 3
   },
   "file_extension": ".py",
   "mimetype": "text/x-python",
   "name": "python",
   "nbconvert_exporter": "python",
   "pygments_lexer": "ipython3",
   "version": "3.6.7"
  }
 },
 "nbformat": 4,
 "nbformat_minor": 2
}
